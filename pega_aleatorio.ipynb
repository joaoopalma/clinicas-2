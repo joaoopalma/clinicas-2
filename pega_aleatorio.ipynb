{
 "cells": [
  {
   "cell_type": "code",
   "execution_count": 4,
   "id": "53b849e9",
   "metadata": {},
   "outputs": [
    {
     "name": "stdout",
     "output_type": "stream",
     "text": [
      "Dataset 1 criado com 10 linhas\n",
      "Dataset 2 criado com 10 linhas\n",
      "Dataset 3 criado com 10 linhas\n",
      "Dataset 4 criado com 10 linhas\n",
      "Dataset 5 criado com 10 linhas\n",
      "\n",
      "Primeiro dataset de teste:\n",
      "         cd_causa             cd_atendimento                 ds_Acao_Judicial  \\\n",
      "5105   CIB0555831  0005843-02.2025.8.04.6300  90 - ACAO DE REPARACAO DE DANOS   \n",
      "4067   CIB0546218  1001818-54.2025.8.26.0596  90 - ACAO DE REPARACAO DE DANOS   \n",
      "1461   CIB0563945  0000801-94.2025.8.04.7100  90 - ACAO DE REPARACAO DE DANOS   \n",
      "1490   CIB0487183  3000633-17.2025.8.06.0300  90 - ACAO DE REPARACAO DE DANOS   \n",
      "19588  CI20587859  5022221-12.2025.8.13.0701                    INDENIZATÓRIA   \n",
      "13908  CI20579205  0807467-65.2025.8.10.0034                    INDENIZATÓRIA   \n",
      "2906   CIB0496549  0001189-33.2025.8.04.6700  90 - ACAO DE REPARACAO DE DANOS   \n",
      "14849  CI20544617  3000267-95.2025.8.06.0067                    INDENIZATÓRIA   \n",
      "5689   CIB0508464  0142224-09.2025.8.04.1000  90 - ACAO DE REPARACAO DE DANOS   \n",
      "11876  CI20511364  3000509-45.2025.8.06.0070                    INDENIZATÓRIA   \n",
      "\n",
      "                                                ds_fatos  \\\n",
      "5105   A Requerente é cliente do banco requerido, e u...   \n",
      "4067   SÍNTESE FÁTICA:  A Autora é aposentada junto a...   \n",
      "1461   A parte requerente é titular das contas corren...   \n",
      "1490   DOS FATOS O requerente possui conta junto ao B...   \n",
      "19588  A Autora possuía um empréstimo consignado vinc...   \n",
      "13908  DOS FATOS E DO CONTRATO EM DISCUSSÃO  O (A) Re...   \n",
      "2906   DOS FATOS  Página 4 DOS DESCONTOS COINCIDE ENT...   \n",
      "14849  DOS FATOS A presente ação tem como objetivo re...   \n",
      "5689   DOS FATOS Inicialmente, esclarece-se que a par...   \n",
      "11876  DOS FATOS A presente ação tem como objetivo re...   \n",
      "\n",
      "                                              ds_Pedidos  \\\n",
      "5105   a) A inversão do ônus da prova ao réu, nos ter...   \n",
      "4067   Por todo o exposto, a Autora ingressa com a pr...   \n",
      "1461   POR TUDO AQUI DEMONSTRADO REQUER, A VOSSA EXCE...   \n",
      "1490   DOS PEDIDOS Ante o exposto, requer a Vossa Exc...   \n",
      "19588  Ante o exposto, requer: a) seja concedido à Re...   \n",
      "13908  ANTE O EXPOSTO, REQUER: a) Inicialmente, que V...   \n",
      "2906   Isto posto, requer a Vossa Excelência: a) o de...   \n",
      "14849  DOS PEDIDOS Diante do exposto, o(a) Autor(a) r...   \n",
      "5689   DOS PEDIDOS Ante o exposto, requer: a) Sendo d...   \n",
      "11876  DOS PEDIDOS Por todo o exposto, requer a Autor...   \n",
      "\n",
      "                                         ds_Qualificacao  \n",
      "5105   EXCELENTÍSSIMO(A) SENHOR(A) DOUTOR(A) JUIZ(A) ...  \n",
      "4067   . EXMO(A). DOUTOR(A) JUÍZ(A) DE DIREITO DA -__...  \n",
      "1461   EXCELENTÍSSIMO (A) SENHOR (A) DOUTOR (A) JUIZ ...  \n",
      "1490   DUARTE GUERRA Advocacia AO JUÍZO DA VARA ÚNICA...  \n",
      "19588  AO JUÍZO DA UNIDADE JURISDICIONAL DO JUIZADO E...  \n",
      "13908  AO JUÍZO DA VARA CÍVEL E CRIMINAL DA COMARCA D...  \n",
      "2906   EXCELENTÍSSIMO SENHOR DOUTOR JUIZ DE DIREITO D...  \n",
      "14849  Num. 152512516 - Pág. 1 Assinado eletronicamen...  \n",
      "5689   AO JUÍZO DE DIREITO DA __ VARA CÍVEL E DE ACID...  \n",
      "11876  NF Neto Fortes Advocacia & Consultoria EXCELEN...  \n"
     ]
    }
   ],
   "source": [
    "import pandas as pd\n",
    "import random\n",
    "\n",
    "# Definir seed para reprodutibilidade (opcional)\n",
    "random.seed(42)\n",
    "\n",
    "# Carregar dataset com separador correto (pipe |)\n",
    "df = pd.read_csv('data/dataset_clinica20252.csv', sep='|')\n",
    "\n",
    "# Criar 5 datasets aleatórios com 10 linhas cada\n",
    "datasets_teste = []\n",
    "\n",
    "for i in range(5):\n",
    "    # Selecionar 10 linhas aleatórias\n",
    "    dataset_aleatorio = df.sample(n=10, random_state=i)\n",
    "    datasets_teste.append(dataset_aleatorio)\n",
    "    print(f\"Dataset {i+1} criado com {len(dataset_aleatorio)} linhas\")\n",
    "\n",
    "# Você pode acessar cada dataset assim:\n",
    "# datasets_teste[0] - primeiro dataset\n",
    "# datasets_teste[1] - segundo dataset\n",
    "# etc.\n",
    "\n",
    "# Exemplo: visualizar o primeiro dataset\n",
    "print(\"\\nPrimeiro dataset de teste:\")\n",
    "print(datasets_teste[0])"
   ]
  },
  {
   "cell_type": "code",
   "execution_count": null,
   "id": "80d20dc6",
   "metadata": {},
   "outputs": [],
   "source": []
  }
 ],
 "metadata": {
  "kernelspec": {
   "display_name": "Python 3",
   "language": "python",
   "name": "python3"
  },
  "language_info": {
   "codemirror_mode": {
    "name": "ipython",
    "version": 3
   },
   "file_extension": ".py",
   "mimetype": "text/x-python",
   "name": "python",
   "nbconvert_exporter": "python",
   "pygments_lexer": "ipython3",
   "version": "3.13.5"
  }
 },
 "nbformat": 4,
 "nbformat_minor": 5
}
